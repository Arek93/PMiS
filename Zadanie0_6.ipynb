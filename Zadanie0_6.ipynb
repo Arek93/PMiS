{
  "nbformat": 4,
  "nbformat_minor": 0,
  "metadata": {
    "colab": {
      "name": "Zadanie0.6.ipynb",
      "provenance": [],
      "authorship_tag": "ABX9TyOpsdSm/vx0xkq6WBZASVxz",
      "include_colab_link": true
    },
    "kernelspec": {
      "name": "python3",
      "display_name": "Python 3"
    },
    "language_info": {
      "name": "python"
    }
  },
  "cells": [
    {
      "cell_type": "markdown",
      "metadata": {
        "id": "view-in-github",
        "colab_type": "text"
      },
      "source": [
        "<a href=\"https://colab.research.google.com/github/Arek93/PMiS/blob/main/Zadanie0_6.ipynb\" target=\"_parent\"><img src=\"https://colab.research.google.com/assets/colab-badge.svg\" alt=\"Open In Colab\"/></a>"
      ]
    },
    {
      "cell_type": "markdown",
      "source": [
        "#0.6 Modele rozwoju epidemii\n",
        "\n"
      ],
      "metadata": {
        "id": "iV9Xsh-fnrD-"
      }
    },
    {
      "cell_type": "markdown",
      "source": [
        "Maltuzjański model wzrostu populacji – uproszczony model dynamiki zmian populacji, stanowiący matematyczną formę koncepcji wzrostu populacji gatunku w ekosystemie sformułowanej przez Thomasa Malthusa.\n",
        "\n",
        "Krzywa zachorowań na COVID-19 na Bahamach w przedziale datowym 30.06.2021 - 29.01.2022\n",
        "\n",
        "Krzywa dopasowanie metodą Malthusa"
      ],
      "metadata": {
        "id": "VYGn4z2_nv2z"
      }
    },
    {
      "cell_type": "code",
      "execution_count": null,
      "metadata": {
        "id": "a236mXqUnjKg"
      },
      "outputs": [],
      "source": [
        "from scipy.optimize import curve_fit\n",
        "import numpy as np\n",
        "import matplotlib.pyplot as plt\n",
        "import pandas as pd\n",
        "\n",
        "\n",
        "df = pd.read_csv('https://github.com/Arek93/iadn2021/blob/main/bahama-covid-data.csv')\n",
        " \n",
        "\n",
        "y=df[0:188,1]\n",
        "x=df[0:188,0]\n",
        "plt.plot(x,y)\n",
        "plt.show()\n",
        " \n",
        "def objective(x,a,b,c):\n",
        "  return a*np.exp(-b*x)+c\n",
        " \n",
        "t=np.linspace(0,1,187)\n",
        "popt,_ = curve_fit(objective, t, y)\n",
        "a, b, c = popt\n",
        " \n",
        "plt.plot(t,y)\n",
        "ty=objective(t,a,b,c)\n",
        "plt.plot(t,ty)\n",
        "plt.show()"
      ]
    }
  ]
}